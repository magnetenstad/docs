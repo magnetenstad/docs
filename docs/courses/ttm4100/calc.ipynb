{
 "cells": [
  {
   "cell_type": "code",
   "execution_count": 28,
   "metadata": {},
   "outputs": [
    {
     "name": "stdout",
     "output_type": "stream",
     "text": [
      "6.320000000000001\n"
     ]
    }
   ],
   "source": [
    "packet_bits = 1500 * 8\n",
    "prop_speed = 0.2 * 10**9\n",
    "\n",
    "d_prop = 0\n",
    "d_queue = 0\n",
    "d_trans = 0\n",
    "i = 0\n",
    "\n",
    "for (length, capacity) in (\n",
    "    # (350, 100),\n",
    "    # (220, 100),\n",
    "    (450, 100),\n",
    "    # (310, 300),\n",
    "    (400, 200),\n",
    "    # (350, 300),\n",
    "    (270, 50)\n",
    "    ):\n",
    "  d_prop += (length * 10**3) / prop_speed\n",
    "  d_trans += packet_bits / (capacity * 10**6)\n",
    "  i += 1\n",
    "\n",
    "d_proc = i * 0.1 * 10**(-3)\n",
    "# d_trans += packet_bits / (100 * 10**6)\n",
    "d_nodal = d_queue + d_prop + d_trans + d_proc\n",
    "print(d_nodal * 10**3)"
   ]
  },
  {
   "cell_type": "code",
   "execution_count": 26,
   "metadata": {},
   "outputs": [
    {
     "data": {
      "text/plain": [
       "11.009174311926605"
      ]
     },
     "execution_count": 26,
     "metadata": {},
     "output_type": "execute_result"
    }
   ],
   "source": [
    "(4 * packet_bits / (4.36 * 10**-3))*(10**-6)"
   ]
  },
  {
   "cell_type": "code",
   "execution_count": 22,
   "metadata": {},
   "outputs": [
    {
     "data": {
      "text/plain": [
       "2.60875"
      ]
     },
     "execution_count": 22,
     "metadata": {},
     "output_type": "execute_result"
    }
   ],
   "source": [
    "10.435 / 4"
   ]
  }
 ],
 "metadata": {
  "interpreter": {
   "hash": "26de051ba29f2982a8de78e945f0abaf191376122a1563185a90213a26c5da77"
  },
  "kernelspec": {
   "display_name": "Python 3.10.2 64-bit",
   "language": "python",
   "name": "python3"
  },
  "language_info": {
   "codemirror_mode": {
    "name": "ipython",
    "version": 3
   },
   "file_extension": ".py",
   "mimetype": "text/x-python",
   "name": "python",
   "nbconvert_exporter": "python",
   "pygments_lexer": "ipython3",
   "version": "3.10.2"
  },
  "orig_nbformat": 4
 },
 "nbformat": 4,
 "nbformat_minor": 2
}
